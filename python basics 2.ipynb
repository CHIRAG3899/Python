{
 "cells": [
  {
   "cell_type": "code",
   "execution_count": 1,
   "id": "601945df",
   "metadata": {},
   "outputs": [
    {
     "name": "stdout",
     "output_type": "stream",
     "text": [
      "Condition was true\n"
     ]
    }
   ],
   "source": [
    "if True:\n",
    "    print('Condition was true')"
   ]
  },
  {
   "cell_type": "code",
   "execution_count": 2,
   "id": "e1433e25",
   "metadata": {},
   "outputs": [],
   "source": [
    "if False:\n",
    "    print('Condtition was true')"
   ]
  },
  {
   "cell_type": "code",
   "execution_count": 4,
   "id": "07da4305",
   "metadata": {},
   "outputs": [
    {
     "name": "stdout",
     "output_type": "stream",
     "text": [
      "True\n"
     ]
    }
   ],
   "source": [
    "Language='Python'\n",
    "\n",
    "if Language=='Python':\n",
    "    print('True')\n",
    "else:\n",
    "    print('NO match')"
   ]
  },
  {
   "cell_type": "code",
   "execution_count": 5,
   "id": "25890a7e",
   "metadata": {},
   "outputs": [
    {
     "name": "stdout",
     "output_type": "stream",
     "text": [
      "NO match\n"
     ]
    }
   ],
   "source": [
    "Language='Python'\n",
    "\n",
    "if Language=='Java':\n",
    "    print('True')\n",
    "else:\n",
    "    print('NO match')"
   ]
  },
  {
   "cell_type": "code",
   "execution_count": 6,
   "id": "94961b48",
   "metadata": {},
   "outputs": [
    {
     "name": "stdout",
     "output_type": "stream",
     "text": [
      "Admin Page\n"
     ]
    }
   ],
   "source": [
    "user='Admin'\n",
    "logged_in=True\n",
    "\n",
    "if user=='Admin' and logged_in:\n",
    "    print('Admin Page')\n",
    "else:\n",
    "    print('Bad creeds')\n"
   ]
  },
  {
   "cell_type": "code",
   "execution_count": 7,
   "id": "33691c9f",
   "metadata": {},
   "outputs": [
    {
     "name": "stdout",
     "output_type": "stream",
     "text": [
      "Bad creeds\n"
     ]
    }
   ],
   "source": [
    "user='Admin'\n",
    "logged_in=False\n",
    "\n",
    "if user=='Admin' and logged_in:\n",
    "    print('Admin Page')\n",
    "else:\n",
    "    print('Bad creeds')\n"
   ]
  },
  {
   "cell_type": "code",
   "execution_count": 8,
   "id": "bf72dc5b",
   "metadata": {},
   "outputs": [
    {
     "name": "stdout",
     "output_type": "stream",
     "text": [
      "Admin Page\n"
     ]
    }
   ],
   "source": [
    "user='Admin'\n",
    "logged_in=False\n",
    "\n",
    "if user=='Admin' or logged_in:\n",
    "    print('Admin Page')\n",
    "else:\n",
    "    print('Bad creeds')\n"
   ]
  },
  {
   "cell_type": "code",
   "execution_count": 9,
   "id": "006eb313",
   "metadata": {},
   "outputs": [
    {
     "name": "stdout",
     "output_type": "stream",
     "text": [
      "Please log in\n"
     ]
    }
   ],
   "source": [
    "user='admin'\n",
    "logged_in=False\n",
    "\n",
    "if not logged_in:\n",
    "    print('Please log in')\n",
    "else:\n",
    "    print('Admin Page')"
   ]
  },
  {
   "cell_type": "code",
   "execution_count": 10,
   "id": "99ec77cd",
   "metadata": {},
   "outputs": [
    {
     "name": "stdout",
     "output_type": "stream",
     "text": [
      "True\n",
      "False\n"
     ]
    }
   ],
   "source": [
    "a=[1,2,3]\n",
    "b=[1,2,3]\n",
    "\n",
    "print(a == b)\n",
    "print(a is b)"
   ]
  },
  {
   "cell_type": "code",
   "execution_count": 11,
   "id": "2c632d4e",
   "metadata": {},
   "outputs": [
    {
     "name": "stdout",
     "output_type": "stream",
     "text": [
      "True\n",
      "True\n"
     ]
    }
   ],
   "source": [
    "a=[1,2,3]\n",
    "b=a\n",
    "\n",
    "print(a==b)\n",
    "print(a is b)"
   ]
  },
  {
   "cell_type": "markdown",
   "id": "06b3b2f9",
   "metadata": {},
   "source": [
    "### False Values:\n",
    "###### False\n",
    "###### None\n",
    "###### Zero of any numeric type\n",
    "###### Any Empty Sequence ex.'',(),[]"
   ]
  },
  {
   "cell_type": "code",
   "execution_count": 12,
   "id": "893c86db",
   "metadata": {},
   "outputs": [
    {
     "name": "stdout",
     "output_type": "stream",
     "text": [
      "Evaluated to False\n"
     ]
    }
   ],
   "source": [
    "condition=False\n",
    "\n",
    "if condition:\n",
    "    print('Evaluated to True')\n",
    "else:\n",
    "    print('Evaluated to False')\n",
    "    "
   ]
  },
  {
   "cell_type": "code",
   "execution_count": 13,
   "id": "b1d78739",
   "metadata": {},
   "outputs": [
    {
     "name": "stdout",
     "output_type": "stream",
     "text": [
      "Evaluated to False\n"
     ]
    }
   ],
   "source": [
    "condition=None\n",
    "\n",
    "if condition:\n",
    "    print('Evaluated to True')\n",
    "else:\n",
    "    print('Evaluated to False')"
   ]
  },
  {
   "cell_type": "code",
   "execution_count": 14,
   "id": "7b7f542b",
   "metadata": {},
   "outputs": [
    {
     "name": "stdout",
     "output_type": "stream",
     "text": [
      "Evaluated to False\n"
     ]
    }
   ],
   "source": [
    "condition=0\n",
    "\n",
    "if condition:\n",
    "    print('Evaluated to True')\n",
    "else:\n",
    "    print('Evaluated to False')"
   ]
  },
  {
   "cell_type": "code",
   "execution_count": 15,
   "id": "a7d28b3f",
   "metadata": {},
   "outputs": [
    {
     "name": "stdout",
     "output_type": "stream",
     "text": [
      "Evaluated to True\n"
     ]
    }
   ],
   "source": [
    "condition=2\n",
    "\n",
    "if condition:\n",
    "    print('Evaluated to True')\n",
    "else:\n",
    "    print('Evaluated to False')"
   ]
  },
  {
   "cell_type": "code",
   "execution_count": 16,
   "id": "e2dc0128",
   "metadata": {},
   "outputs": [
    {
     "name": "stdout",
     "output_type": "stream",
     "text": [
      "Evaluated to False\n"
     ]
    }
   ],
   "source": [
    "condition=[]\n",
    "\n",
    "if condition:\n",
    "    print('Evaluated to True')\n",
    "else:\n",
    "    print('Evaluated to False')"
   ]
  },
  {
   "cell_type": "code",
   "execution_count": 18,
   "id": "fb2bc6f3",
   "metadata": {},
   "outputs": [
    {
     "name": "stdout",
     "output_type": "stream",
     "text": [
      "1\n",
      "2\n",
      "3\n",
      "4\n",
      "5\n"
     ]
    }
   ],
   "source": [
    "nums=[1,2,3,4,5]\n",
    "\n",
    "for num in nums:\n",
    "    print(num)"
   ]
  },
  {
   "cell_type": "code",
   "execution_count": 21,
   "id": "4045923a",
   "metadata": {},
   "outputs": [
    {
     "name": "stdout",
     "output_type": "stream",
     "text": [
      "1\n",
      "2\n",
      "Found it\n"
     ]
    }
   ],
   "source": [
    "nums=[1,2,3,4,5]\n",
    "\n",
    "for num in nums:\n",
    "    if num==3:\n",
    "        print('Found it')\n",
    "        break\n",
    "    print(num)"
   ]
  },
  {
   "cell_type": "code",
   "execution_count": 22,
   "id": "2a1ebcbc",
   "metadata": {},
   "outputs": [
    {
     "name": "stdout",
     "output_type": "stream",
     "text": [
      "1\n",
      "2\n",
      "Found it\n",
      "4\n",
      "5\n"
     ]
    }
   ],
   "source": [
    "nums=[1,2,3,4,5]\n",
    "\n",
    "for num in nums:\n",
    "    if num==3:\n",
    "        print('Found it')\n",
    "        continue\n",
    "    print(num)"
   ]
  },
  {
   "cell_type": "code",
   "execution_count": 23,
   "id": "1dfc2747",
   "metadata": {},
   "outputs": [
    {
     "name": "stdout",
     "output_type": "stream",
     "text": [
      "1 a\n",
      "1 b\n",
      "1 c\n",
      "1 d\n",
      "2 a\n",
      "2 b\n",
      "2 c\n",
      "2 d\n",
      "3 a\n",
      "3 b\n",
      "3 c\n",
      "3 d\n",
      "4 a\n",
      "4 b\n",
      "4 c\n",
      "4 d\n",
      "5 a\n",
      "5 b\n",
      "5 c\n",
      "5 d\n"
     ]
    }
   ],
   "source": [
    "nums=[1,2,3,4,5]\n",
    "\n",
    "for num in nums:\n",
    "    for letter in 'abcd':\n",
    "        print(num,letter)"
   ]
  },
  {
   "cell_type": "code",
   "execution_count": 24,
   "id": "a86b7ad6",
   "metadata": {},
   "outputs": [
    {
     "name": "stdout",
     "output_type": "stream",
     "text": [
      "0\n",
      "1\n",
      "2\n",
      "3\n",
      "4\n",
      "5\n",
      "6\n",
      "7\n",
      "8\n",
      "9\n"
     ]
    }
   ],
   "source": [
    "for i in range(10):\n",
    "    print(i)"
   ]
  },
  {
   "cell_type": "code",
   "execution_count": 25,
   "id": "1ecf4c3e",
   "metadata": {},
   "outputs": [
    {
     "name": "stdout",
     "output_type": "stream",
     "text": [
      "1\n",
      "2\n",
      "3\n",
      "4\n",
      "5\n",
      "6\n",
      "7\n",
      "8\n",
      "9\n",
      "10\n"
     ]
    }
   ],
   "source": [
    "for i in range(1,11):\n",
    "    print(i)"
   ]
  },
  {
   "cell_type": "code",
   "execution_count": 2,
   "id": "2661db02",
   "metadata": {},
   "outputs": [
    {
     "name": "stdout",
     "output_type": "stream",
     "text": [
      "0\n",
      "1\n",
      "2\n",
      "3\n",
      "4\n",
      "5\n",
      "6\n"
     ]
    }
   ],
   "source": [
    "x=0\n",
    "while x<7:\n",
    "    print(x)\n",
    "    x+=1"
   ]
  },
  {
   "cell_type": "code",
   "execution_count": 1,
   "id": "7f676527",
   "metadata": {},
   "outputs": [
    {
     "name": "stdout",
     "output_type": "stream",
     "text": [
      "0\n",
      "3\n",
      "6\n"
     ]
    }
   ],
   "source": [
    "x=0\n",
    "while True:\n",
    "    if x==9:\n",
    "        break\n",
    "    print(x)\n",
    "    x+=3"
   ]
  },
  {
   "cell_type": "code",
   "execution_count": 2,
   "id": "dff056c2",
   "metadata": {},
   "outputs": [
    {
     "name": "stdout",
     "output_type": "stream",
     "text": [
      "Hello Function\n"
     ]
    }
   ],
   "source": [
    "def hello_func():\n",
    "    print('Hello Function')\n",
    "\n",
    "hello_func()\n",
    "\n"
   ]
  },
  {
   "cell_type": "code",
   "execution_count": 4,
   "id": "b286ce4b",
   "metadata": {},
   "outputs": [
    {
     "name": "stdout",
     "output_type": "stream",
     "text": [
      "3\n"
     ]
    }
   ],
   "source": [
    "def sum(a,b):\n",
    "    c=a+b\n",
    "    print(c)\n",
    "    \n",
    "sum(1,2)"
   ]
  },
  {
   "cell_type": "code",
   "execution_count": 5,
   "id": "57bdfbca",
   "metadata": {},
   "outputs": [
    {
     "name": "stdout",
     "output_type": "stream",
     "text": [
      "YoBoy\n"
     ]
    }
   ],
   "source": [
    "sum('Yo','Boy')"
   ]
  },
  {
   "cell_type": "code",
   "execution_count": 7,
   "id": "3a657410",
   "metadata": {},
   "outputs": [
    {
     "name": "stdout",
     "output_type": "stream",
     "text": [
      "Hi,Coco\n",
      "Hi,Star\n"
     ]
    }
   ],
   "source": [
    "def hello_function(greeting,name='Star'): # add default value if no value given in name\n",
    "    return '{},{}'.format(greeting,name)\n",
    "\n",
    "print(hello_function('Hi','Coco'))\n",
    "print(hello_function('Hi'))"
   ]
  },
  {
   "cell_type": "code",
   "execution_count": 8,
   "id": "73486200",
   "metadata": {},
   "outputs": [
    {
     "name": "stdout",
     "output_type": "stream",
     "text": [
      "('Math', 'Art')\n",
      "{'name': 'John', 'age': 22}\n"
     ]
    }
   ],
   "source": [
    "def stud_info(*args,**kwargs):\n",
    "    print(args)\n",
    "    print(kwargs)\n",
    "    \n",
    "stud_info('Math','Art',name='John',age=22)"
   ]
  },
  {
   "cell_type": "code",
   "execution_count": 11,
   "id": "d4c36c55",
   "metadata": {},
   "outputs": [
    {
     "name": "stdout",
     "output_type": "stream",
     "text": [
      "('Math', 'Art')\n",
      "{'name': 'John', 'age': 22}\n"
     ]
    }
   ],
   "source": [
    "courses=['Math','Art']\n",
    "info={'name':'John','age':22}\n",
    "\n",
    "stud_info(*courses,**info)"
   ]
  },
  {
   "cell_type": "code",
   "execution_count": 13,
   "id": "dc6c88eb",
   "metadata": {},
   "outputs": [
    {
     "name": "stdout",
     "output_type": "stream",
     "text": [
      "False\n",
      "28\n"
     ]
    }
   ],
   "source": [
    "month_days=[0,31,28,31,30,31,30,31,31,30,31,30,31]\n",
    "\n",
    "def is_leap(year):\n",
    "    \n",
    "    return year % 4==0 and (year %100 != 0 or year % 400 ==0)\n",
    "\n",
    "def days_in_month(year,month):\n",
    "    if not 1<= month <=12:\n",
    "        return 'Invalid Month'\n",
    "    \n",
    "    if month==2 and is_leap(year):\n",
    "        return 29\n",
    "    \n",
    "    return month_days[month]\n",
    "\n",
    "print(is_leap(2015))\n",
    "print(days_in_month(2017,2))"
   ]
  },
  {
   "cell_type": "code",
   "execution_count": 17,
   "id": "2c2dac70",
   "metadata": {},
   "outputs": [
    {
     "name": "stdout",
     "output_type": "stream",
     "text": [
      "True\n",
      "29\n"
     ]
    }
   ],
   "source": [
    "print(is_leap(2020))\n",
    "print(days_in_month(2004,2))"
   ]
  },
  {
   "cell_type": "code",
   "execution_count": 19,
   "id": "9e0a3bb0",
   "metadata": {},
   "outputs": [
    {
     "name": "stdout",
     "output_type": "stream",
     "text": [
      "1\n"
     ]
    }
   ],
   "source": [
    "def find_index(to_search,target):\n",
    "    \n",
    "    for i,value in enumerate(to_search):\n",
    "        if value==target:\n",
    "            return i\n",
    "    \n",
    "    return i\n",
    "\n",
    "courses=['History','Math','Physics','Comp Sc']\n",
    "\n",
    "index=find_index(courses,'Math')\n",
    "print(index)"
   ]
  },
  {
   "cell_type": "code",
   "execution_count": 20,
   "id": "13b7580e",
   "metadata": {},
   "outputs": [
    {
     "name": "stdout",
     "output_type": "stream",
     "text": [
      "['C:\\\\Users\\\\Chirubhai', 'C:\\\\Users\\\\Chirubhai\\\\anaconda3\\\\python38.zip', 'C:\\\\Users\\\\Chirubhai\\\\anaconda3\\\\DLLs', 'C:\\\\Users\\\\Chirubhai\\\\anaconda3\\\\lib', 'C:\\\\Users\\\\Chirubhai\\\\anaconda3', '', 'C:\\\\Users\\\\Chirubhai\\\\anaconda3\\\\lib\\\\site-packages', 'C:\\\\Users\\\\Chirubhai\\\\anaconda3\\\\lib\\\\site-packages\\\\locket-0.2.1-py3.8.egg', 'C:\\\\Users\\\\Chirubhai\\\\anaconda3\\\\lib\\\\site-packages\\\\win32', 'C:\\\\Users\\\\Chirubhai\\\\anaconda3\\\\lib\\\\site-packages\\\\win32\\\\lib', 'C:\\\\Users\\\\Chirubhai\\\\anaconda3\\\\lib\\\\site-packages\\\\Pythonwin', 'C:\\\\Users\\\\Chirubhai\\\\anaconda3\\\\lib\\\\site-packages\\\\IPython\\\\extensions', 'C:\\\\Users\\\\Chirubhai\\\\.ipython']\n"
     ]
    }
   ],
   "source": [
    "import sys\n",
    "print(sys.path)"
   ]
  },
  {
   "cell_type": "code",
   "execution_count": 22,
   "id": "b6af986e",
   "metadata": {},
   "outputs": [
    {
     "name": "stdout",
     "output_type": "stream",
     "text": [
      "Comp Sc\n"
     ]
    }
   ],
   "source": [
    "import random\n",
    "\n",
    "random_courses=random.choice(courses)\n",
    "print(random_courses)"
   ]
  },
  {
   "cell_type": "code",
   "execution_count": 24,
   "id": "01c7d006",
   "metadata": {},
   "outputs": [
    {
     "name": "stdout",
     "output_type": "stream",
     "text": [
      "2021-05-24\n",
      "True\n"
     ]
    }
   ],
   "source": [
    "import datetime\n",
    "import calendar\n",
    "\n",
    "today= datetime.date.today()\n",
    "print(today)\n",
    "print(calendar.isleap(2020))"
   ]
  }
 ],
 "metadata": {
  "kernelspec": {
   "display_name": "Python 3",
   "language": "python",
   "name": "python3"
  },
  "language_info": {
   "codemirror_mode": {
    "name": "ipython",
    "version": 3
   },
   "file_extension": ".py",
   "mimetype": "text/x-python",
   "name": "python",
   "nbconvert_exporter": "python",
   "pygments_lexer": "ipython3",
   "version": "3.8.8"
  }
 },
 "nbformat": 4,
 "nbformat_minor": 5
}
