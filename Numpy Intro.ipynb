{
 "cells": [
  {
   "cell_type": "markdown",
   "id": "40a2cc84",
   "metadata": {},
   "source": [
    "# Python Numpy Intro¶\n",
    "###### An introduction to the Python Numpy numerical python library. It is 3x to 10x faster and more memory efficient than Python's lists because, similar to Java arrays, it uses contiguous blocks of memory, and all elements are the same data type so there is no type checking at runtime. The Numpy library also includes many built-in code-saving mathematical functions that can be performed on an entire array or any slice of an array with a single line of code (ie. no for loops).Numpy n-dimensional arrays are also sometimes referred to as nd-arrays."
   ]
  },
  {
   "cell_type": "code",
   "execution_count": 1,
   "id": "a24ea8e1",
   "metadata": {},
   "outputs": [],
   "source": [
    "import numpy as np"
   ]
  },
  {
   "cell_type": "markdown",
   "id": "c6ebbdf0",
   "metadata": {},
   "source": [
    "Creating a Numpy Array"
   ]
  },
  {
   "cell_type": "code",
   "execution_count": 2,
   "id": "059ef60a",
   "metadata": {},
   "outputs": [
    {
     "name": "stdout",
     "output_type": "stream",
     "text": [
      "[ 1  3  5  7  9 11]\n"
     ]
    }
   ],
   "source": [
    "a = np.array([1,3,5,7,9,11])\n",
    "print(a)"
   ]
  },
  {
   "cell_type": "code",
   "execution_count": 4,
   "id": "50317877",
   "metadata": {},
   "outputs": [
    {
     "name": "stdout",
     "output_type": "stream",
     "text": [
      "[ 1.   2.5  4.   5.5  7.   8.5 10.  11.5 13.  14.5 16.  17.5 19. ]\n"
     ]
    }
   ],
   "source": [
    "a = np.arange(1, 20, 1.5)    # (start, stop, step)\n",
    "print(a)"
   ]
  },
  {
   "cell_type": "code",
   "execution_count": 5,
   "id": "5bc33e6e",
   "metadata": {},
   "outputs": [
    {
     "name": "stdout",
     "output_type": "stream",
     "text": [
      "[5.         5.21052632 5.42105263 5.63157895 5.84210526 6.05263158\n",
      " 6.26315789 6.47368421 6.68421053 6.89473684 7.10526316 7.31578947\n",
      " 7.52631579 7.73684211 7.94736842 8.15789474 8.36842105 8.57894737\n",
      " 8.78947368 9.        ]\n"
     ]
    }
   ],
   "source": [
    "a = np.linspace(5, 9, 20)  # (start, stop, number of items)\n",
    "print(a)"
   ]
  },
  {
   "cell_type": "code",
   "execution_count": 6,
   "id": "37ff7f87",
   "metadata": {},
   "outputs": [
    {
     "name": "stdout",
     "output_type": "stream",
     "text": [
      "[[0. 0.]\n",
      " [0. 0.]\n",
      " [0. 0.]\n",
      " [0. 0.]]\n"
     ]
    }
   ],
   "source": [
    "a = np.zeros((4, 2)) # Array of Zeroes\n",
    "print(a)"
   ]
  },
  {
   "cell_type": "code",
   "execution_count": 7,
   "id": "e44d2575",
   "metadata": {},
   "outputs": [
    {
     "name": "stdout",
     "output_type": "stream",
     "text": [
      "[[1 1 1]\n",
      " [1 1 1]]\n"
     ]
    }
   ],
   "source": [
    "a = np.ones((2, 3), dtype=np.int16) # Array of ones\n",
    "print(a)"
   ]
  },
  {
   "cell_type": "code",
   "execution_count": 8,
   "id": "1238d69c",
   "metadata": {},
   "outputs": [
    {
     "name": "stdout",
     "output_type": "stream",
     "text": [
      "[88 88 88 88 88 88]\n"
     ]
    }
   ],
   "source": [
    "a = np.full((6,), 88)  # Array of 88\n",
    "print(a)"
   ]
  },
  {
   "cell_type": "code",
   "execution_count": 10,
   "id": "3987909f",
   "metadata": {},
   "outputs": [
    {
     "name": "stdout",
     "output_type": "stream",
     "text": [
      "[25 30 35 40]\n"
     ]
    }
   ],
   "source": [
    "a = np.fromstring('25 30 35 40', dtype=np.int64, sep=' ') #array with integer converted from string\n",
    "print(a)"
   ]
  },
  {
   "cell_type": "code",
   "execution_count": 11,
   "id": "e64d06fd",
   "metadata": {},
   "outputs": [
    {
     "name": "stdout",
     "output_type": "stream",
     "text": [
      "[[ 1  3  5]\n",
      " [ 7  9 11]]\n"
     ]
    }
   ],
   "source": [
    "a = np.array([[1,3,5],[7,9,11]]) #2D array\n",
    "print(a)"
   ]
  },
  {
   "cell_type": "code",
   "execution_count": 12,
   "id": "adbd4b8f",
   "metadata": {},
   "outputs": [
    {
     "name": "stdout",
     "output_type": "stream",
     "text": [
      "[[0 0 0]\n",
      " [0 0 0]]\n"
     ]
    }
   ],
   "source": [
    "b = np.zeros_like(a)    # _like gives you a new array in the same shape as the argument.\n",
    "print(b)"
   ]
  },
  {
   "cell_type": "code",
   "execution_count": 15,
   "id": "c36ad79f",
   "metadata": {},
   "outputs": [
    {
     "name": "stdout",
     "output_type": "stream",
     "text": [
      "20\n"
     ]
    }
   ],
   "source": [
    "a = np.linspace(5, 9, 20)  # (start, stop, number of items)\n",
    "print(a.size) #size (number of items)"
   ]
  },
  {
   "cell_type": "code",
   "execution_count": 16,
   "id": "85dd0963",
   "metadata": {},
   "outputs": [
    {
     "name": "stdout",
     "output_type": "stream",
     "text": [
      "(20,)\n"
     ]
    }
   ],
   "source": [
    "print(a.shape) #shape (dimensions)"
   ]
  },
  {
   "cell_type": "code",
   "execution_count": 18,
   "id": "eb466587",
   "metadata": {},
   "outputs": [
    {
     "name": "stdout",
     "output_type": "stream",
     "text": [
      "1\n"
     ]
    }
   ],
   "source": [
    "print(a.ndim) #No of dimensions"
   ]
  },
  {
   "cell_type": "code",
   "execution_count": 19,
   "id": "b5bc7fbf",
   "metadata": {},
   "outputs": [
    {
     "name": "stdout",
     "output_type": "stream",
     "text": [
      "[[ 1  3  5]\n",
      " [ 7  9 11]]\n"
     ]
    }
   ],
   "source": [
    "a = np.array([[1,3,5],[7,9,11]]) #2D array\n",
    "print(a)"
   ]
  },
  {
   "cell_type": "code",
   "execution_count": 21,
   "id": "a6c99447",
   "metadata": {},
   "outputs": [
    {
     "name": "stdout",
     "output_type": "stream",
     "text": [
      "(2, 3)\n",
      "2\n"
     ]
    }
   ],
   "source": [
    "print(a.shape)\n",
    "print(a.ndim)"
   ]
  },
  {
   "cell_type": "code",
   "execution_count": 22,
   "id": "613122ea",
   "metadata": {},
   "outputs": [
    {
     "name": "stdout",
     "output_type": "stream",
     "text": [
      "4\n"
     ]
    }
   ],
   "source": [
    "print(a.itemsize) #itemsize(bytes of memory for each item)"
   ]
  },
  {
   "cell_type": "code",
   "execution_count": 23,
   "id": "0a4c6eda",
   "metadata": {},
   "outputs": [
    {
     "name": "stdout",
     "output_type": "stream",
     "text": [
      "int32\n"
     ]
    }
   ],
   "source": [
    "print(a.dtype) #dtype (numpy data type)"
   ]
  },
  {
   "cell_type": "code",
   "execution_count": 24,
   "id": "c37efe8e",
   "metadata": {},
   "outputs": [
    {
     "name": "stdout",
     "output_type": "stream",
     "text": [
      "24\n"
     ]
    }
   ],
   "source": [
    "print(a.nbytes)  # same as a.size * a.itemsize"
   ]
  },
  {
   "cell_type": "markdown",
   "id": "763c2b0e",
   "metadata": {},
   "source": [
    "Indexing and Slicing"
   ]
  },
  {
   "cell_type": "code",
   "execution_count": 25,
   "id": "53967b62",
   "metadata": {},
   "outputs": [
    {
     "name": "stdout",
     "output_type": "stream",
     "text": [
      "[[ 1  3  5]\n",
      " [ 7  9 11]]\n"
     ]
    }
   ],
   "source": [
    "print(a)"
   ]
  },
  {
   "cell_type": "code",
   "execution_count": 27,
   "id": "6cbc4b74",
   "metadata": {},
   "outputs": [
    {
     "name": "stdout",
     "output_type": "stream",
     "text": [
      "[ 7  9 11]\n"
     ]
    }
   ],
   "source": [
    "print(a[1]) #Indexing"
   ]
  },
  {
   "cell_type": "code",
   "execution_count": 28,
   "id": "b5a04751",
   "metadata": {},
   "outputs": [
    {
     "name": "stdout",
     "output_type": "stream",
     "text": [
      "5\n"
     ]
    }
   ],
   "source": [
    "print(a[0][2]) #Indexing in 2d array"
   ]
  },
  {
   "cell_type": "code",
   "execution_count": 33,
   "id": "a2c92110",
   "metadata": {},
   "outputs": [
    {
     "name": "stdout",
     "output_type": "stream",
     "text": [
      "[[1 3 5]]\n"
     ]
    }
   ],
   "source": [
    "print(a[:1]) # Slicing"
   ]
  },
  {
   "cell_type": "code",
   "execution_count": 34,
   "id": "df1b7398",
   "metadata": {},
   "outputs": [
    {
     "name": "stdout",
     "output_type": "stream",
     "text": [
      "[[ 7  9 11]]\n"
     ]
    }
   ],
   "source": [
    "print(a[1:3:2])"
   ]
  },
  {
   "cell_type": "code",
   "execution_count": 35,
   "id": "6bbad391",
   "metadata": {},
   "outputs": [
    {
     "name": "stdout",
     "output_type": "stream",
     "text": [
      "[[3]\n",
      " [9]]\n"
     ]
    }
   ],
   "source": [
    "print(a[:, 1:2])  # all elements on dimension 0, only element 1 on dimension 1"
   ]
  },
  {
   "cell_type": "code",
   "execution_count": 39,
   "id": "d02f7452",
   "metadata": {},
   "outputs": [
    {
     "name": "stdout",
     "output_type": "stream",
     "text": [
      "[[-10  -9  -8]\n",
      " [ -7  -6  -5]]\n"
     ]
    }
   ],
   "source": [
    "a = np.arange(-10, -4,).reshape(2,3)\n",
    "print(a)"
   ]
  },
  {
   "cell_type": "code",
   "execution_count": 40,
   "id": "0f12ff47",
   "metadata": {},
   "outputs": [
    {
     "name": "stdout",
     "output_type": "stream",
     "text": [
      "[[-10  -7]\n",
      " [ -9  -6]\n",
      " [ -8  -5]]\n"
     ]
    }
   ],
   "source": [
    "a = a.swapaxes(0,1)\n",
    "print(a)"
   ]
  },
  {
   "cell_type": "code",
   "execution_count": 41,
   "id": "3e5f6884",
   "metadata": {},
   "outputs": [
    {
     "name": "stdout",
     "output_type": "stream",
     "text": [
      "[-10  -7  -9  -6  -8  -5]\n"
     ]
    }
   ],
   "source": [
    "a = a.flatten()\n",
    "print(a)"
   ]
  },
  {
   "cell_type": "code",
   "execution_count": 59,
   "id": "d0457232",
   "metadata": {},
   "outputs": [
    {
     "name": "stdout",
     "output_type": "stream",
     "text": [
      "int32 <class 'numpy.int32'>\n",
      "400\n"
     ]
    }
   ],
   "source": [
    "d = np.arange(0,100)\n",
    "print(d.dtype, type(d[1]))\n",
    "print(d.nbytes)"
   ]
  },
  {
   "cell_type": "code",
   "execution_count": 60,
   "id": "020a1aa7",
   "metadata": {},
   "outputs": [
    {
     "name": "stdout",
     "output_type": "stream",
     "text": [
      "int8 <class 'numpy.int8'>\n",
      "100\n"
     ]
    }
   ],
   "source": [
    "d = np.arange(0,100, dtype='int8')\n",
    "print(d.dtype, type(d[1]))\n",
    "print(d.nbytes)"
   ]
  },
  {
   "cell_type": "code",
   "execution_count": 44,
   "id": "061d962f",
   "metadata": {},
   "outputs": [
    {
     "name": "stdout",
     "output_type": "stream",
     "text": [
      "float64\n"
     ]
    }
   ],
   "source": [
    "e = np.array([(1.566666,2,3), (4,5,6)])\n",
    "print(e.dtype)"
   ]
  },
  {
   "cell_type": "code",
   "execution_count": 45,
   "id": "97afb5e4",
   "metadata": {},
   "outputs": [
    {
     "name": "stdout",
     "output_type": "stream",
     "text": [
      "[[1.5667 2.     3.    ]\n",
      " [4.     5.     6.    ]]\n"
     ]
    }
   ],
   "source": [
    "e = e.round(4)\n",
    "print(e)\n"
   ]
  },
  {
   "cell_type": "code",
   "execution_count": 46,
   "id": "4abc799f",
   "metadata": {},
   "outputs": [
    {
     "name": "stdout",
     "output_type": "stream",
     "text": [
      "[[1.57 2.   3.  ]\n",
      " [4.   5.   6.  ]]\n"
     ]
    }
   ],
   "source": [
    "np.set_printoptions(precision=2, suppress=True)    # show 2 decimal places, suppress scientific notation\n",
    "print(e)"
   ]
  },
  {
   "cell_type": "code",
   "execution_count": 47,
   "id": "b1ce5444",
   "metadata": {},
   "outputs": [
    {
     "name": "stdout",
     "output_type": "stream",
     "text": [
      "{'complex': [<class 'numpy.complex64'>, <class 'numpy.complex128'>],\n",
      " 'float': [<class 'numpy.float16'>,\n",
      "           <class 'numpy.float32'>,\n",
      "           <class 'numpy.float64'>],\n",
      " 'int': [<class 'numpy.int8'>,\n",
      "         <class 'numpy.int16'>,\n",
      "         <class 'numpy.int32'>,\n",
      "         <class 'numpy.int64'>],\n",
      " 'others': [<class 'bool'>,\n",
      "            <class 'object'>,\n",
      "            <class 'bytes'>,\n",
      "            <class 'str'>,\n",
      "            <class 'numpy.void'>],\n",
      " 'uint': [<class 'numpy.uint8'>,\n",
      "          <class 'numpy.uint16'>,\n",
      "          <class 'numpy.uint32'>,\n",
      "          <class 'numpy.uint64'>]}\n"
     ]
    }
   ],
   "source": [
    "import pprint as pp\n",
    "pp.pprint(np.sctypes)  # Data types in Numpy"
   ]
  },
  {
   "cell_type": "code",
   "execution_count": 61,
   "id": "dee28d1c",
   "metadata": {},
   "outputs": [
    {
     "name": "stdout",
     "output_type": "stream",
     "text": [
      "[ 0  1  2  3  4  5  6  7  8  9 10 11 12 13 14 15 16 17 18 19 20 21 22 23\n",
      " 24 25 26 27 28 29 30 31 32 33 34 35 36 37 38 39 40 41 42 43 44 45 46 47\n",
      " 48 49 50 51 52 53 54 55 56 57 58 59 60 61 62 63 64 65 66 67 68 69 70 71\n",
      " 72 73 74 75 76 77 78 79 80 81 82 83 84 85 86 87 88 89 90 91 92 93 94 95\n",
      " 96 97 98 99]\n",
      "[False False False False False  True  True  True  True  True  True  True\n",
      "  True  True  True  True  True  True  True  True  True  True  True  True\n",
      "  True  True  True  True  True  True  True  True  True  True  True  True\n",
      "  True  True  True  True  True  True  True  True  True  True  True  True\n",
      "  True  True  True  True  True  True  True  True  True  True  True  True\n",
      "  True  True  True  True  True  True  True  True  True  True  True  True\n",
      "  True  True  True  True  True  True  True  True  True  True  True  True\n",
      "  True  True  True  True  True  True  True  True  True  True  True  True\n",
      "  True  True  True  True]\n",
      "[  -1    0    3    8   15   24   35   48   63   80   99  120 -113  -88\n",
      "  -61  -32   -1   32   67  104 -113  -72  -29   16   63  112  -93  -40\n",
      "   15   72 -125  -64   -1   64 -125  -56   15   88  -93  -16   63 -112\n",
      "  -29   56 -113  -24   67  -96   -1   96  -61   40 -113   -8   99  -48\n",
      "   63  -80   35 -104   15 -120    3 -128   -1 -128    3 -120   15 -104\n",
      "   35  -80   63  -48   99   -8 -113   40  -61   96   -1  -96   67  -24\n",
      " -113   56  -29 -112   63  -16  -93   88   15  -56 -125   64   -1  -64\n",
      " -125   72]\n"
     ]
    }
   ],
   "source": [
    "print(d)\n",
    "print(d > 4)\n",
    "print(d ** 2 - 1)"
   ]
  },
  {
   "cell_type": "code",
   "execution_count": 62,
   "id": "a59d2924",
   "metadata": {},
   "outputs": [
    {
     "name": "stdout",
     "output_type": "stream",
     "text": [
      "0\n"
     ]
    }
   ],
   "source": [
    "print(d.min())"
   ]
  },
  {
   "cell_type": "code",
   "execution_count": 63,
   "id": "6063cd79",
   "metadata": {},
   "outputs": [
    {
     "name": "stdout",
     "output_type": "stream",
     "text": [
      "99\n"
     ]
    }
   ],
   "source": [
    "print(d.max())"
   ]
  },
  {
   "cell_type": "code",
   "execution_count": 64,
   "id": "6619e1af",
   "metadata": {},
   "outputs": [
    {
     "name": "stdout",
     "output_type": "stream",
     "text": [
      "4950\n"
     ]
    }
   ],
   "source": [
    "print(d.sum())"
   ]
  },
  {
   "cell_type": "code",
   "execution_count": 65,
   "id": "0de36a31",
   "metadata": {},
   "outputs": [
    {
     "name": "stdout",
     "output_type": "stream",
     "text": [
      "49.5\n"
     ]
    }
   ],
   "source": [
    "print(d.mean())"
   ]
  },
  {
   "cell_type": "code",
   "execution_count": 66,
   "id": "c8e381ce",
   "metadata": {},
   "outputs": [
    {
     "name": "stdout",
     "output_type": "stream",
     "text": [
      "833.25\n"
     ]
    }
   ],
   "source": [
    "print(d.var())"
   ]
  },
  {
   "cell_type": "code",
   "execution_count": 67,
   "id": "8b6046e5",
   "metadata": {},
   "outputs": [
    {
     "name": "stdout",
     "output_type": "stream",
     "text": [
      "28.86607004772212\n"
     ]
    }
   ],
   "source": [
    "print(d.std())"
   ]
  },
  {
   "cell_type": "code",
   "execution_count": 69,
   "id": "2f0d52a2",
   "metadata": {},
   "outputs": [
    {
     "name": "stdout",
     "output_type": "stream",
     "text": [
      "0\n"
     ]
    }
   ],
   "source": [
    "print(d.argmin())  # index of min element"
   ]
  },
  {
   "cell_type": "code",
   "execution_count": 70,
   "id": "60fdf14a",
   "metadata": {},
   "outputs": [
    {
     "name": "stdout",
     "output_type": "stream",
     "text": [
      "99\n"
     ]
    }
   ],
   "source": [
    "print(d.argmax())      # index of max element"
   ]
  },
  {
   "cell_type": "code",
   "execution_count": 71,
   "id": "c38c6020",
   "metadata": {},
   "outputs": [
    {
     "name": "stdout",
     "output_type": "stream",
     "text": [
      "[ 0  1  2  3  4  5  6  7  8  9 10 11 12 13 14 15 16 17 18 19 20 21 22 23\n",
      " 24 25 26 27 28 29 30 31 32 33 34 35 36 37 38 39 40 41 42 43 44 45 46 47\n",
      " 48 49 50 51 52 53 54 55 56 57 58 59 60 61 62 63 64 65 66 67 68 69 70 71\n",
      " 72 73 74 75 76 77 78 79 80 81 82 83 84 85 86 87 88 89 90 91 92 93 94 95\n",
      " 96 97 98 99]\n"
     ]
    }
   ],
   "source": [
    "print(d.argsort())     # returns array of indices that would put the array in sorted order"
   ]
  },
  {
   "cell_type": "code",
   "execution_count": 80,
   "id": "66775a85",
   "metadata": {},
   "outputs": [
    {
     "name": "stdout",
     "output_type": "stream",
     "text": [
      "[[80  8 63 48 35  0  1 15  3 24]\n",
      " [ 0 48 15 80  3 35 63  8 24  1]\n",
      " [15 63 18 80 24 48  3 35  1  0]\n",
      " [ 0 48 15  3 24 80 35 63  1  8]\n",
      " [ 1 48 24  3 63 35  8 15  0 80]\n",
      " [24 80  0 15 48  1  8 35 63  3]]\n"
     ]
    }
   ],
   "source": [
    "g=np.array([[80,8,63,48,35,0,1,15,3,24],\n",
    " [0,48,15,80,3,35,63,8,24,1],\n",
    " [15,63,18,80,24,48,3,35,1,0],\n",
    " [0,48,15,3,24,80,35,63,1,8],\n",
    " [1,48,24,3,63,35,8,15,0,80],\n",
    " [24,80,0,15,48,1,8,35,63,3]])\n",
    "print(g)"
   ]
  },
  {
   "cell_type": "code",
   "execution_count": 81,
   "id": "d5579861",
   "metadata": {},
   "outputs": [
    {
     "name": "stdout",
     "output_type": "stream",
     "text": [
      "[[ True  True  True  True  True False False  True False  True]\n",
      " [False  True  True  True False  True  True  True  True False]\n",
      " [ True  True  True  True  True  True False  True False False]\n",
      " [False  True  True False  True  True  True  True False  True]\n",
      " [False  True  True False  True  True  True  True False  True]\n",
      " [ True  True False  True  True False  True  True  True False]]\n",
      "[[6399   63 3968 2303 1224   -1    0  224    8  575]\n",
      " [  -1 2303  224 6399    8 1224 3968   63  575    0]\n",
      " [ 224 3968  323 6399  575 2303    8 1224    0   -1]\n",
      " [  -1 2303  224    8  575 6399 1224 3968    0   63]\n",
      " [   0 2303  575    8 3968 1224   63  224   -1 6399]\n",
      " [ 575 6399   -1  224 2303    0   63 1224 3968    8]]\n"
     ]
    }
   ],
   "source": [
    "print(g > 4)\n",
    "print(g ** 2 - 1)"
   ]
  },
  {
   "cell_type": "code",
   "execution_count": 82,
   "id": "919fd8c5",
   "metadata": {},
   "outputs": [
    {
     "name": "stdout",
     "output_type": "stream",
     "text": [
      "0\n"
     ]
    }
   ],
   "source": [
    "print(g.min())"
   ]
  },
  {
   "cell_type": "code",
   "execution_count": 83,
   "id": "502264d8",
   "metadata": {},
   "outputs": [
    {
     "name": "stdout",
     "output_type": "stream",
     "text": [
      "80\n"
     ]
    }
   ],
   "source": [
    "print(g.max())"
   ]
  },
  {
   "cell_type": "code",
   "execution_count": 84,
   "id": "d46e4352",
   "metadata": {},
   "outputs": [
    {
     "name": "stdout",
     "output_type": "stream",
     "text": [
      "1672\n"
     ]
    }
   ],
   "source": [
    "print(g.sum())"
   ]
  },
  {
   "cell_type": "code",
   "execution_count": 85,
   "id": "2fffbe40",
   "metadata": {},
   "outputs": [
    {
     "name": "stdout",
     "output_type": "stream",
     "text": [
      "27.866666666666667\n"
     ]
    }
   ],
   "source": [
    "print(g.mean())"
   ]
  },
  {
   "cell_type": "code",
   "execution_count": 86,
   "id": "6cc88061",
   "metadata": {},
   "outputs": [
    {
     "name": "stdout",
     "output_type": "stream",
     "text": [
      "705.0822222222222\n"
     ]
    }
   ],
   "source": [
    "print(g.var())    "
   ]
  },
  {
   "cell_type": "code",
   "execution_count": 87,
   "id": "81356f59",
   "metadata": {},
   "outputs": [
    {
     "name": "stdout",
     "output_type": "stream",
     "text": [
      "26.553384383581356\n"
     ]
    }
   ],
   "source": [
    "print(g.std())      "
   ]
  },
  {
   "cell_type": "code",
   "execution_count": 88,
   "id": "10237d18",
   "metadata": {},
   "outputs": [
    {
     "name": "stdout",
     "output_type": "stream",
     "text": [
      "[277 277 287 277 277 277]\n"
     ]
    }
   ],
   "source": [
    "print(g.sum(axis=1))"
   ]
  },
  {
   "cell_type": "code",
   "execution_count": 89,
   "id": "d617eb51",
   "metadata": {},
   "outputs": [
    {
     "name": "stdout",
     "output_type": "stream",
     "text": [
      "[0 8 0 3 3 0 1 8 0 0]\n"
     ]
    }
   ],
   "source": [
    "print(g.min(axis=0))"
   ]
  },
  {
   "cell_type": "code",
   "execution_count": 90,
   "id": "b32dfd94",
   "metadata": {},
   "outputs": [
    {
     "name": "stdout",
     "output_type": "stream",
     "text": [
      "5\n"
     ]
    }
   ],
   "source": [
    "print(g.argmin())"
   ]
  },
  {
   "cell_type": "code",
   "execution_count": 91,
   "id": "7552543b",
   "metadata": {},
   "outputs": [
    {
     "name": "stdout",
     "output_type": "stream",
     "text": [
      "0\n"
     ]
    }
   ],
   "source": [
    "print(g.argmax())"
   ]
  },
  {
   "cell_type": "code",
   "execution_count": 92,
   "id": "30cf0ff2",
   "metadata": {},
   "outputs": [
    {
     "name": "stdout",
     "output_type": "stream",
     "text": [
      "[[5 6 8 1 7 9 4 3 2 0]\n",
      " [0 9 4 7 2 8 5 1 6 3]\n",
      " [9 8 6 0 2 4 7 5 1 3]\n",
      " [0 8 3 9 2 4 6 1 7 5]\n",
      " [8 0 3 6 7 2 5 1 4 9]\n",
      " [2 5 9 6 3 0 7 4 8 1]]\n"
     ]
    }
   ],
   "source": [
    "print(g.argsort())"
   ]
  },
  {
   "cell_type": "code",
   "execution_count": 94,
   "id": "f7247c03",
   "metadata": {},
   "outputs": [
    {
     "name": "stdout",
     "output_type": "stream",
     "text": [
      "[[63]\n",
      " [15]\n",
      " [18]\n",
      " [15]\n",
      " [24]\n",
      " [ 0]]\n"
     ]
    }
   ],
   "source": [
    "print(g[:, 2:3])"
   ]
  },
  {
   "cell_type": "code",
   "execution_count": 95,
   "id": "4a01b173",
   "metadata": {},
   "outputs": [
    {
     "name": "stdout",
     "output_type": "stream",
     "text": [
      "63\n"
     ]
    }
   ],
   "source": [
    "print(g[:, 2:3].max())"
   ]
  },
  {
   "cell_type": "code",
   "execution_count": 96,
   "id": "8dadbe29",
   "metadata": {},
   "outputs": [
    {
     "name": "stdout",
     "output_type": "stream",
     "text": [
      "33.183412857765084\n"
     ]
    }
   ],
   "source": [
    "col3 = g[:, 3:4]      # not a copy, just a pointer to a slice of g\n",
    "print(col3.std())"
   ]
  },
  {
   "cell_type": "code",
   "execution_count": 97,
   "id": "71606c17",
   "metadata": {},
   "outputs": [
    {
     "name": "stdout",
     "output_type": "stream",
     "text": [
      "[[  80    8   63 4800   35    0    1   15    3   24]\n",
      " [   0   48   15 8000    3   35   63    8   24    1]\n",
      " [  15   63   18 8000   24   48    3   35    1    0]\n",
      " [   0   48   15  300   24   80   35   63    1    8]\n",
      " [   1   48   24  300   63   35    8   15    0   80]\n",
      " [  24   80    0 1500   48    1    8   35   63    3]]\n"
     ]
    }
   ],
   "source": [
    "col3 *= 100           # Beware: this is applied to g data\n",
    "print(g)"
   ]
  },
  {
   "cell_type": "code",
   "execution_count": 98,
   "id": "0b3c7bdf",
   "metadata": {},
   "outputs": [
    {
     "name": "stdout",
     "output_type": "stream",
     "text": [
      "[0.78464 0.21424 0.17614 0.22243 0.01864 0.88523]\n"
     ]
    }
   ],
   "source": [
    "np.set_printoptions(precision=5, suppress=True)    # show 5 decimal places, suppress scientific notation\n",
    "h = np.random.random(6)\n",
    "print(h)\n"
   ]
  },
  {
   "cell_type": "code",
   "execution_count": 99,
   "id": "36eb5b2b",
   "metadata": {},
   "outputs": [
    {
     "name": "stdout",
     "output_type": "stream",
     "text": [
      "[85 39 43 92 41 13 87 44]\n"
     ]
    }
   ],
   "source": [
    "h = np.random.randint(10, 99, 8)    # (low, high inclusive, size)\n",
    "print(h)"
   ]
  },
  {
   "cell_type": "code",
   "execution_count": 100,
   "id": "22510a6f",
   "metadata": {},
   "outputs": [
    {
     "name": "stdout",
     "output_type": "stream",
     "text": [
      "[87 13 44 41 43 85 92 39]\n"
     ]
    }
   ],
   "source": [
    "np.random.shuffle(h)        # in-place shuffle\n",
    "print(h)"
   ]
  },
  {
   "cell_type": "code",
   "execution_count": 101,
   "id": "67536079",
   "metadata": {},
   "outputs": [
    {
     "name": "stdout",
     "output_type": "stream",
     "text": [
      "92\n"
     ]
    }
   ],
   "source": [
    "print(np.random.choice(h))"
   ]
  },
  {
   "cell_type": "code",
   "execution_count": 102,
   "id": "4f65c92c",
   "metadata": {},
   "outputs": [
    {
     "name": "stdout",
     "output_type": "stream",
     "text": [
      "[13 39 41 43 44 85 87 92]\n"
     ]
    }
   ],
   "source": [
    "h.sort()                    # in-place sort\n",
    "print(h)"
   ]
  }
 ],
 "metadata": {
  "kernelspec": {
   "display_name": "Python 3",
   "language": "python",
   "name": "python3"
  },
  "language_info": {
   "codemirror_mode": {
    "name": "ipython",
    "version": 3
   },
   "file_extension": ".py",
   "mimetype": "text/x-python",
   "name": "python",
   "nbconvert_exporter": "python",
   "pygments_lexer": "ipython3",
   "version": "3.8.8"
  }
 },
 "nbformat": 4,
 "nbformat_minor": 5
}
